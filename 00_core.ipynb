{
 "cells": [
  {
   "cell_type": "code",
   "execution_count": null,
   "metadata": {},
   "outputs": [],
   "source": [
    "# default_exp core"
   ]
  },
  {
   "cell_type": "markdown",
   "metadata": {},
   "source": [
    "# nbdev_minimum\n",
    "\n",
    "> Notebook -> module conversion with #export flags and nothing else"
   ]
  },
  {
   "cell_type": "code",
   "execution_count": null,
   "metadata": {},
   "outputs": [],
   "source": [
    "#hide\n",
    "from nbdev.showdoc import *"
   ]
  },
  {
   "cell_type": "code",
   "execution_count": null,
   "metadata": {},
   "outputs": [],
   "source": [
    "#export\n",
    "from nbdev.export import read_nb\n",
    "from pathlib import Path\n",
    "import os"
   ]
  },
  {
   "cell_type": "code",
   "execution_count": null,
   "metadata": {},
   "outputs": [],
   "source": [
    "#export\n",
    "def get_module_text(notebook_path):\n",
    "    '''Read ipynb file and get all code from code cells with #export or # export at the beginning'''\n",
    "    nb = read_nb(notebook_path)\n",
    "    module = ''\n",
    "    for cell in nb['cells']: \n",
    "      if cell['cell_type']=='code':\n",
    "        if cell['source'].startswith('#export') or cell['source'].startswith('# export'):\n",
    "          module = module + cell['source'] + '\\n\\n'\n",
    "    return module"
   ]
  },
  {
   "cell_type": "code",
   "execution_count": null,
   "metadata": {},
   "outputs": [
    {
     "data": {
      "text/markdown": [
       "<h4 id=\"get_module_text\" class=\"doc_header\"><code>get_module_text</code><a href=\"__main__.py#L2\" class=\"source_link\" style=\"float:right\">[source]</a></h4>\n",
       "\n",
       "> <code>get_module_text</code>(**`notebook_path`**)\n",
       "\n",
       "Read ipynb file and get all code from code cells with #export or # export at the beginning"
      ],
      "text/plain": [
       "<IPython.core.display.Markdown object>"
      ]
     },
     "metadata": {},
     "output_type": "display_data"
    }
   ],
   "source": [
    "show_doc(get_module_text)"
   ]
  },
  {
   "cell_type": "code",
   "execution_count": null,
   "metadata": {},
   "outputs": [],
   "source": [
    "#export\n",
    "def write_module_text(module_text,notebook_name,lib_path=Path('./src')):\n",
    "  '''Write module_text to lib_path/notebook_name as .py file'''\n",
    "  if not os.path.exists(lib_path): os.makedirs(lib_path)\n",
    "  module_name = str(notebook_name)[:-5] + 'py'\n",
    "  f = open(lib_path/module_name, \"w\")\n",
    "  f.write(module_text)\n",
    "  f.close()\n",
    "  print(f'Converted {lib_path/module_name}')"
   ]
  },
  {
   "cell_type": "code",
   "execution_count": null,
   "metadata": {},
   "outputs": [
    {
     "data": {
      "text/markdown": [
       "<h4 id=\"write_module_text\" class=\"doc_header\"><code>write_module_text</code><a href=\"__main__.py#L2\" class=\"source_link\" style=\"float:right\">[source]</a></h4>\n",
       "\n",
       "> <code>write_module_text</code>(**`module_text`**, **`notebook_name`**, **`lib_path`**=*`Path('src')`*)\n",
       "\n",
       "Write module_text to lib_path/notebook_name as .py file"
      ],
      "text/plain": [
       "<IPython.core.display.Markdown object>"
      ]
     },
     "metadata": {},
     "output_type": "display_data"
    }
   ],
   "source": [
    "show_doc(write_module_text)"
   ]
  },
  {
   "cell_type": "code",
   "execution_count": null,
   "metadata": {},
   "outputs": [],
   "source": [
    "#export\n",
    "def clear_all_modules(lib_path=Path('./src')):\n",
    "  '''Clear all .py files from lib_path to reset your .py exported files'''\n",
    "  if not os.path.exists(lib_path): os.makedirs(lib_path)\n",
    "  filelist = [ f for f in os.listdir(lib_path) if f.endswith('.py')]\n",
    "  for f in filelist: os.remove(os.path.join(lib_path, f))\n",
    "  print('========= Modules Cleared ==========')"
   ]
  },
  {
   "cell_type": "code",
   "execution_count": null,
   "metadata": {},
   "outputs": [
    {
     "data": {
      "text/markdown": [
       "<h4 id=\"clear_all_modules\" class=\"doc_header\"><code>clear_all_modules</code><a href=\"__main__.py#L2\" class=\"source_link\" style=\"float:right\">[source]</a></h4>\n",
       "\n",
       "> <code>clear_all_modules</code>(**`lib_path`**=*`Path('src')`*)\n",
       "\n",
       "Clear all .py files from lib_path to reset your .py exported files"
      ],
      "text/plain": [
       "<IPython.core.display.Markdown object>"
      ]
     },
     "metadata": {},
     "output_type": "display_data"
    }
   ],
   "source": [
    "show_doc(clear_all_modules)"
   ]
  },
  {
   "cell_type": "code",
   "execution_count": null,
   "metadata": {},
   "outputs": [],
   "source": [
    "#export\n",
    "def simple_export_one_nb(nb_path,lib_path = Path('./src')):\n",
    "  '''clear_all_modules in lib_path\n",
    "     for each notebook in nbs_path get_module_text and write_module_text to lib_path \n",
    "     All .py files in lib_path will be removed and replaced\n",
    "  '''\n",
    "  module_text = get_module_text(nb_path)\n",
    "  if module_text == '': print(f'Nothing to Convert {lib_path/nb_path}')\n",
    "  else: write_module_text(module_text,nb_path,lib_path)"
   ]
  },
  {
   "cell_type": "code",
   "execution_count": null,
   "metadata": {},
   "outputs": [
    {
     "data": {
      "text/markdown": [
       "<h4 id=\"simple_export_one_nb\" class=\"doc_header\"><code>simple_export_one_nb</code><a href=\"__main__.py#L2\" class=\"source_link\" style=\"float:right\">[source]</a></h4>\n",
       "\n",
       "> <code>simple_export_one_nb</code>(**`nb_path`**, **`lib_path`**=*`Path('src')`*)\n",
       "\n",
       "clear_all_modules in lib_path\n",
       "for each notebook in nbs_path get_module_text and write_module_text to lib_path \n",
       "All .py files in lib_path will be removed and replaced"
      ],
      "text/plain": [
       "<IPython.core.display.Markdown object>"
      ]
     },
     "metadata": {},
     "output_type": "display_data"
    }
   ],
   "source": [
    "show_doc(simple_export_one_nb)"
   ]
  },
  {
   "cell_type": "code",
   "execution_count": null,
   "metadata": {},
   "outputs": [],
   "source": [
    "#export\n",
    "def simple_export_all_nb(nbs_path = Path('.'),lib_path = Path('./src')):\n",
    "  '''clear_all_modules in lib_path\n",
    "     for each notebook in nbs_path get_module_text and write_module_text to lib_path \n",
    "     All .py files in lib_path will be removed and replaced\n",
    "  '''\n",
    "  nbs = [nbs_path/n for n in  os.listdir(nbs_path) if n.endswith('.ipynb')]\n",
    "  clear_all_modules(lib_path)\n",
    "  for i in range(len(nbs)):\n",
    "    simple_export_one_nb(nbs[i],lib_path)"
   ]
  },
  {
   "cell_type": "code",
   "execution_count": null,
   "metadata": {},
   "outputs": [
    {
     "data": {
      "text/markdown": [
       "<h4 id=\"simple_export_all_nb\" class=\"doc_header\"><code>simple_export_all_nb</code><a href=\"__main__.py#L2\" class=\"source_link\" style=\"float:right\">[source]</a></h4>\n",
       "\n",
       "> <code>simple_export_all_nb</code>(**`nbs_path`**=*`Path('.')`*, **`lib_path`**=*`Path('src')`*)\n",
       "\n",
       "clear_all_modules in lib_path\n",
       "for each notebook in nbs_path get_module_text and write_module_text to lib_path \n",
       "All .py files in lib_path will be removed and replaced"
      ],
      "text/plain": [
       "<IPython.core.display.Markdown object>"
      ]
     },
     "metadata": {},
     "output_type": "display_data"
    }
   ],
   "source": [
    "show_doc(simple_export_all_nb)"
   ]
  },
  {
   "cell_type": "code",
   "execution_count": null,
   "metadata": {},
   "outputs": [
    {
     "name": "stdout",
     "output_type": "stream",
     "text": [
      "========= Modules Cleared ==========\n",
      "Converted testing/00_core.py\n",
      "Nothing to Convert testing/index.ipynb\n"
     ]
    }
   ],
   "source": [
    "simple_export_all_nb(lib_path=Path('./testing'))"
   ]
  },
  {
   "cell_type": "code",
   "execution_count": null,
   "metadata": {},
   "outputs": [
    {
     "name": "stdout",
     "output_type": "stream",
     "text": [
      "Converted testing/00_core.py\n"
     ]
    }
   ],
   "source": [
    "simple_export_one_nb(Path('00_core.ipynb'),lib_path=Path('./testing'))"
   ]
  }
 ],
 "metadata": {
  "kernelspec": {
   "display_name": "Python 3",
   "language": "python",
   "name": "python3"
  }
 },
 "nbformat": 4,
 "nbformat_minor": 2
}
