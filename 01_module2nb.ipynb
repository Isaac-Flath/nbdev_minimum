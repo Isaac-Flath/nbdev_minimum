{
 "cells": [
  {
   "cell_type": "code",
   "execution_count": null,
   "metadata": {},
   "outputs": [],
   "source": [
    "# default_exp module2nb"
   ]
  },
  {
   "cell_type": "markdown",
   "metadata": {},
   "source": [
    "# Convert\n",
    "\n",
    "> Module -> notebook conversion"
   ]
  },
  {
   "cell_type": "code",
   "execution_count": null,
   "metadata": {},
   "outputs": [],
   "source": [
    "#hide\n",
    "from nbdev.showdoc import *"
   ]
  },
  {
   "cell_type": "code",
   "execution_count": null,
   "metadata": {},
   "outputs": [],
   "source": [
    "#export\n",
    "import os, json, copy\n",
    "from pathlib import Path"
   ]
  },
  {
   "cell_type": "code",
   "execution_count": null,
   "metadata": {},
   "outputs": [],
   "source": [
    "#export\n",
    "def get_py_files(path): \n",
    "    '''Get all py files in a direcotry'''\n",
    "    return [f for f in os.listdir(path) if f[-3:] == '.py']"
   ]
  },
  {
   "cell_type": "code",
   "execution_count": null,
   "metadata": {},
   "outputs": [
    {
     "data": {
      "text/markdown": [
       "<h4 id=\"get_py_files\" class=\"doc_header\"><code>get_py_files</code><a href=\"__main__.py#L2\" class=\"source_link\" style=\"float:right\">[source]</a></h4>\n",
       "\n",
       "> <code>get_py_files</code>(**`path`**)\n",
       "\n",
       "Get all py files in a direcotry"
      ],
      "text/plain": [
       "<IPython.core.display.Markdown object>"
      ]
     },
     "metadata": {},
     "output_type": "display_data"
    }
   ],
   "source": [
    "show_doc(get_py_files)"
   ]
  },
  {
   "cell_type": "code",
   "execution_count": null,
   "metadata": {},
   "outputs": [],
   "source": [
    "#export\n",
    "def get_cells_one_nb(path,file_name):\n",
    "    '''For py file in path get a return list of strings\n",
    "    Each item in list will corrospond to the contents of a cell in a notebook'''\n",
    "\n",
    "    file = open(path/file_name)\n",
    "    Lines = file.readlines()\n",
    "\n",
    "    split_flag = True\n",
    "    cells = [[]]\n",
    "    i = 0\n",
    "    \n",
    "    for j,line in enumerate(Lines):\n",
    "        split_criteria = line.startswith(('import ','from ','def ','class ','@',\"if __name__ == '__main__':\"))\n",
    "        \n",
    "        if split_flag != split_criteria:  cells[i].append(line)\n",
    "\n",
    "        if split_criteria and split_flag:\n",
    "            i+=1\n",
    "            cells.append([])\n",
    "            cells[i].append('#export\\n')\n",
    "            cells[i].append(line)\n",
    "            split_flag = False\n",
    "\n",
    "        if not split_flag and not split_criteria: split_flag = True    \n",
    "\n",
    "    return cells"
   ]
  },
  {
   "cell_type": "code",
   "execution_count": null,
   "metadata": {},
   "outputs": [
    {
     "data": {
      "text/markdown": [
       "<h4 id=\"get_cells_one_nb\" class=\"doc_header\"><code>get_cells_one_nb</code><a href=\"__main__.py#L2\" class=\"source_link\" style=\"float:right\">[source]</a></h4>\n",
       "\n",
       "> <code>get_cells_one_nb</code>(**`path`**, **`file_name`**)\n",
       "\n",
       "For py file in path get a return list of strings\n",
       "Each item in list will corrospond to the contents of a cell in a notebook"
      ],
      "text/plain": [
       "<IPython.core.display.Markdown object>"
      ]
     },
     "metadata": {},
     "output_type": "display_data"
    }
   ],
   "source": [
    "show_doc(get_cells_one_nb)"
   ]
  },
  {
   "cell_type": "code",
   "execution_count": null,
   "metadata": {},
   "outputs": [],
   "source": [
    "#export\n",
    "def write_code_cell(code):\n",
    "    '''take a piece of code and write it to a code cell\n",
    "    '''\n",
    "    out = {\"cell_type\": \"code\",\"execution_count\": 0,\"metadata\": {},\"outputs\": [],\"source\": []}\n",
    "    out[\"source\"] = code\n",
    "    return out  "
   ]
  },
  {
   "cell_type": "code",
   "execution_count": null,
   "metadata": {},
   "outputs": [
    {
     "data": {
      "text/markdown": [
       "<h4 id=\"write_code_cell\" class=\"doc_header\"><code>write_code_cell</code><a href=\"__main__.py#L2\" class=\"source_link\" style=\"float:right\">[source]</a></h4>\n",
       "\n",
       "> <code>write_code_cell</code>(**`code`**)\n",
       "\n",
       "take a piece of code and write it to a code cell\n",
       "    "
      ],
      "text/plain": [
       "<IPython.core.display.Markdown object>"
      ]
     },
     "metadata": {},
     "output_type": "display_data"
    }
   ],
   "source": [
    "show_doc(write_code_cell)"
   ]
  },
  {
   "cell_type": "code",
   "execution_count": null,
   "metadata": {},
   "outputs": [],
   "source": [
    "#export\n",
    "def py_to_nb(py_path,nb_pth):\n",
    "    '''Write jupyter notebooks based on py files in py_path'''\n",
    "    if not os.path.exists(nb_path): os.makedirs(nb_path)\n",
    "      \n",
    "    files = get_py_files(py_path)\n",
    "    \n",
    "    nb = {\"cells\": [],\"metadata\": {},\"nbformat\": 4, \"nbformat_minor\": 4}\n",
    "    for i,file in enumerate(files): \n",
    "        out_file = f'{file[:-2]}ipynb'; print(f'writing {out_file}') # change extension\n",
    "        cells = get_cells_one_nb(py_path,files[i]) # get cells that should be written\n",
    "        for cell in cells: nb[\"cells\"].append(write_code_cell(cell)) # add cells to dict\n",
    "        with open(nb_path/out_file, 'w') as file: file.write(json.dumps(nb)) # write dict to json"
   ]
  },
  {
   "cell_type": "code",
   "execution_count": null,
   "metadata": {},
   "outputs": [
    {
     "data": {
      "text/markdown": [
       "<h4 id=\"py_to_nb\" class=\"doc_header\"><code>py_to_nb</code><a href=\"__main__.py#L2\" class=\"source_link\" style=\"float:right\">[source]</a></h4>\n",
       "\n",
       "> <code>py_to_nb</code>(**`py_path`**, **`nb_pth`**)\n",
       "\n",
       "Write jupyter notebooks based on py files in py_path"
      ],
      "text/plain": [
       "<IPython.core.display.Markdown object>"
      ]
     },
     "metadata": {},
     "output_type": "display_data"
    }
   ],
   "source": [
    "show_doc(py_to_nb)"
   ]
  },
  {
   "cell_type": "code",
   "execution_count": null,
   "metadata": {},
   "outputs": [],
   "source": [
    "cells = get_cells_one_nb(Path('nbdevminimum'),'core.py')"
   ]
  }
 ],
 "metadata": {
  "kernelspec": {
   "display_name": "Python 3",
   "language": "python",
   "name": "python3"
  }
 },
 "nbformat": 4,
 "nbformat_minor": 4
}
