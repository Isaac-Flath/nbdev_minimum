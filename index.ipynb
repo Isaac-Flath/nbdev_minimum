{
 "cells": [
  {
   "cell_type": "code",
   "execution_count": null,
   "metadata": {},
   "outputs": [],
   "source": [
    "from nbdev_minimum.core import *"
   ]
  },
  {
   "cell_type": "markdown",
   "metadata": {},
   "source": [
    "# nbdev_minimum\n",
    "\n",
    "> Notebook -> module conversion with #export flags and nothing else"
   ]
  },
  {
   "cell_type": "markdown",
   "metadata": {},
   "source": [
    "**Purpose:**  The purpose and main use of this module is for adhoc projects where a full blown nbdev project is not necessary \n",
    "\n",
    "**Example Scenario** \n",
    "\n",
    "Imagine you are working on a kaggle competition. You may not want the full nbdev.  For example, you don't need separate documentation from your notebooks and you're never going to release it to pip or conda.  This module simplifies the process so you just run one command and it creates .py files from your notebooks.  Maybe you are doing an ensemble and to export the dataloaders from a notebook so you can import them into seperate notebooks for your seperate models, or maybe you have a seperate use case.\n",
    "\n",
    "That's what this module does.  it's just the #export flags from nbdev and exporting to a module folder with no setup (ie settings.ini, \\_\\_nbdev.py, etc.) for fast minimal use"
   ]
  },
  {
   "cell_type": "markdown",
   "metadata": {},
   "source": [
    "## Install"
   ]
  },
  {
   "cell_type": "markdown",
   "metadata": {},
   "source": [
    "`pip install nbdev_minimum`"
   ]
  },
  {
   "cell_type": "markdown",
   "metadata": {},
   "source": [
    "## How to use"
   ]
  },
  {
   "cell_type": "code",
   "execution_count": null,
   "metadata": {},
   "outputs": [],
   "source": [
    "#hide\n",
    "from nbdev.showdoc import *"
   ]
  },
  {
   "cell_type": "markdown",
   "metadata": {},
   "source": [
    "### Full Directory Conversion"
   ]
  },
  {
   "cell_type": "markdown",
   "metadata": {},
   "source": [
    "In python run the `simple_export_all_nb` function.  This will:\n",
    "+ Look through all your notebooks in the directory (nbs_path) for any code cells starting with `#export` or `# export`\n",
    "+ If any export code cells exist, it will take all the code and put it in a .py file located in `lib_path`\n",
    "+ The .py module will be named the same as the notebook.  There is no option to specify a seperate .py file name from your notebook name\n",
    "\n",
    "**Any .py files in your lib_path will be removed and replaced.  Do not set lib_path to a folder where you are storing other .py files.  I recommend lib_path being it's own folder only for these auto-generated modules**"
   ]
  },
  {
   "cell_type": "code",
   "execution_count": null,
   "metadata": {},
   "outputs": [
    {
     "data": {
      "text/markdown": [
       "<h4 id=\"simple_export_all_nb\" class=\"doc_header\"><code>simple_export_all_nb</code><a href=\"https://github.com/Isaac-Flath/nbdev_minimum/tree/{branch}/nbdev_minimum/core.py#L50\" class=\"source_link\" style=\"float:right\">[source]</a></h4>\n",
       "\n",
       "> <code>simple_export_all_nb</code>(**`nbs_path`**=*`Path('.')`*, **`lib_path`**=*`Path('src')`*)\n",
       "\n",
       "clear_all_modules in lib_path\n",
       "for each notebook in nbs_path get_module_text and write_module_text to lib_path\n",
       "All .py files in lib_path will be removed and replaced"
      ],
      "text/plain": [
       "<IPython.core.display.Markdown object>"
      ]
     },
     "metadata": {},
     "output_type": "display_data"
    }
   ],
   "source": [
    "show_doc(simple_export_all_nb)"
   ]
  },
  {
   "cell_type": "markdown",
   "metadata": {},
   "source": [
    "### Single Notebook Conversion\n",
    "\n",
    "In python run the `simple_export_one_nb` function.  This will:\n",
    "\n",
    "+ Look through the specified notebook (nb_path) for any code cells starting with `#export` or `# export`\n",
    "+ If any export code cells exist, it will take all the code and put it in a .py file located in `lib_path`\n",
    "+ The .py module will be named the same as the notebook.  There is no option to specify a seperate .py file name from your notebook name"
   ]
  },
  {
   "cell_type": "code",
   "execution_count": null,
   "metadata": {},
   "outputs": [
    {
     "data": {
      "text/markdown": [
       "<h4 id=\"simple_export_one_nb\" class=\"doc_header\"><code>simple_export_one_nb</code><a href=\"https://github.com/Isaac-Flath/nbdev_minimum/tree/{branch}/nbdev_minimum/core.py#L40\" class=\"source_link\" style=\"float:right\">[source]</a></h4>\n",
       "\n",
       "> <code>simple_export_one_nb</code>(**`nb_path`**, **`lib_path`**=*`Path('src')`*)\n",
       "\n",
       "clear_all_modules in lib_path\n",
       "for each notebook in nbs_path get_module_text and write_module_text to lib_path\n",
       "All .py files in lib_path will be removed and replaced"
      ],
      "text/plain": [
       "<IPython.core.display.Markdown object>"
      ]
     },
     "metadata": {},
     "output_type": "display_data"
    }
   ],
   "source": [
    "show_doc(simple_export_one_nb)"
   ]
  },
  {
   "cell_type": "code",
   "execution_count": null,
   "metadata": {},
   "outputs": [],
   "source": []
  }
 ],
 "metadata": {
  "kernelspec": {
   "display_name": "Python 3",
   "language": "python",
   "name": "python3"
  }
 },
 "nbformat": 4,
 "nbformat_minor": 2
}
